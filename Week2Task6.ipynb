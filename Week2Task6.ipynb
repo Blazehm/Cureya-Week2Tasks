{
  "nbformat": 4,
  "nbformat_minor": 0,
  "metadata": {
    "colab": {
      "name": "Week2Task6.ipynb",
      "provenance": [],
      "collapsed_sections": []
    },
    "kernelspec": {
      "name": "python3",
      "display_name": "Python 3"
    },
    "language_info": {
      "name": "python"
    }
  },
  "cells": [
    {
      "cell_type": "markdown",
      "metadata": {
        "id": "n2djBEhtKORs"
      },
      "source": [
        "Import pandas and check the version\n"
      ]
    },
    {
      "cell_type": "code",
      "metadata": {
        "colab": {
          "base_uri": "https://localhost:8080/",
          "height": 35
        },
        "id": "_JPMNlVAI8-D",
        "outputId": "9ab21cc7-6df1-4ff2-ad8a-6ba9b38cdfc3"
      },
      "source": [
        "import pandas as pd\n",
        "pd.__version__"
      ],
      "execution_count": null,
      "outputs": [
        {
          "output_type": "execute_result",
          "data": {
            "application/vnd.google.colaboratory.intrinsic+json": {
              "type": "string"
            },
            "text/plain": [
              "'1.1.5'"
            ]
          },
          "metadata": {
            "tags": []
          },
          "execution_count": 5
        }
      ]
    },
    {
      "cell_type": "markdown",
      "metadata": {
        "id": "wVyUgZOnKZ_s"
      },
      "source": [
        "Create a series from a list, numpy array and dict\n",
        "input:\n",
        "import numpy as np\n",
        "mylist = list('abcedfghijklmnopqrstuvwxyz')\n",
        "myarr = np.arange(26)\n",
        "mydict = dict(zip(mylist, myarr))"
      ]
    },
    {
      "cell_type": "code",
      "metadata": {
        "colab": {
          "base_uri": "https://localhost:8080/"
        },
        "id": "pORedtq5K54H",
        "outputId": "93f91581-c89b-446b-a533-76bd165d7bd9"
      },
      "source": [
        "import numpy as np \n",
        "\n",
        "mylist = list('abcedfghijklmnopqrstuvwxyz')\n",
        "myarr = np.arange(26)\n",
        "mydict = dict(zip(mylist, myarr))\n",
        "\n",
        "ser1 = pd.Series(mylist)\n",
        "ser2 = pd.Series(myarr)\n",
        "ser3 = pd.Series(mydict)\n",
        "\n",
        "print(ser1,\"\\n\\n\",ser2,\"\\n\\n\",ser3)"
      ],
      "execution_count": null,
      "outputs": [
        {
          "output_type": "stream",
          "text": [
            "0     a\n",
            "1     b\n",
            "2     c\n",
            "3     e\n",
            "4     d\n",
            "5     f\n",
            "6     g\n",
            "7     h\n",
            "8     i\n",
            "9     j\n",
            "10    k\n",
            "11    l\n",
            "12    m\n",
            "13    n\n",
            "14    o\n",
            "15    p\n",
            "16    q\n",
            "17    r\n",
            "18    s\n",
            "19    t\n",
            "20    u\n",
            "21    v\n",
            "22    w\n",
            "23    x\n",
            "24    y\n",
            "25    z\n",
            "dtype: object \n",
            "\n",
            " 0      0\n",
            "1      1\n",
            "2      2\n",
            "3      3\n",
            "4      4\n",
            "5      5\n",
            "6      6\n",
            "7      7\n",
            "8      8\n",
            "9      9\n",
            "10    10\n",
            "11    11\n",
            "12    12\n",
            "13    13\n",
            "14    14\n",
            "15    15\n",
            "16    16\n",
            "17    17\n",
            "18    18\n",
            "19    19\n",
            "20    20\n",
            "21    21\n",
            "22    22\n",
            "23    23\n",
            "24    24\n",
            "25    25\n",
            "dtype: int64 \n",
            "\n",
            " a     0\n",
            "b     1\n",
            "c     2\n",
            "e     3\n",
            "d     4\n",
            "f     5\n",
            "g     6\n",
            "h     7\n",
            "i     8\n",
            "j     9\n",
            "k    10\n",
            "l    11\n",
            "m    12\n",
            "n    13\n",
            "o    14\n",
            "p    15\n",
            "q    16\n",
            "r    17\n",
            "s    18\n",
            "t    19\n",
            "u    20\n",
            "v    21\n",
            "w    22\n",
            "x    23\n",
            "y    24\n",
            "z    25\n",
            "dtype: int64\n"
          ],
          "name": "stdout"
        }
      ]
    },
    {
      "cell_type": "markdown",
      "metadata": {
        "id": "ADbSxqeCNW7L"
      },
      "source": [
        "Combine many series to form a dataframe"
      ]
    },
    {
      "cell_type": "code",
      "metadata": {
        "colab": {
          "base_uri": "https://localhost:8080/"
        },
        "id": "iLLAfC-aNejU",
        "outputId": "553dad2e-8387-4db9-8623-6f55afc6d7ca"
      },
      "source": [
        "ser1 = pd.Series(list('abcedfghijklmnopqrstuvwxyz'),name='Letters')\n",
        "ser2 = pd.Series(np.arange(26),name='numbers')\n",
        "\n",
        "merge1 = pd.concat([ser1,ser2],axis=1)\n",
        "print('Comination of ser1 and ser2\\n',merge1) "
      ],
      "execution_count": null,
      "outputs": [
        {
          "output_type": "stream",
          "text": [
            "Comination of ser1 and ser2\n",
            "    Letters  numbers\n",
            "0        a        0\n",
            "1        b        1\n",
            "2        c        2\n",
            "3        e        3\n",
            "4        d        4\n",
            "5        f        5\n",
            "6        g        6\n",
            "7        h        7\n",
            "8        i        8\n",
            "9        j        9\n",
            "10       k       10\n",
            "11       l       11\n",
            "12       m       12\n",
            "13       n       13\n",
            "14       o       14\n",
            "15       p       15\n",
            "16       q       16\n",
            "17       r       17\n",
            "18       s       18\n",
            "19       t       19\n",
            "20       u       20\n",
            "21       v       21\n",
            "22       w       22\n",
            "23       x       23\n",
            "24       y       24\n",
            "25       z       25\n"
          ],
          "name": "stdout"
        }
      ]
    },
    {
      "cell_type": "markdown",
      "metadata": {
        "id": "-1kn_nxIRwzi"
      },
      "source": [
        "get the items not common to both series A and series B\n"
      ]
    },
    {
      "cell_type": "code",
      "metadata": {
        "colab": {
          "base_uri": "https://localhost:8080/"
        },
        "id": "H6GZbzlxRy9A",
        "outputId": "c4198058-3ae8-4e0c-ab0b-7904fae5a1ce"
      },
      "source": [
        "ser3 = pd.Series([1, 2, 3, 4, 5])\n",
        "ser4 = pd.Series([4, 5, 6, 7, 8])\n",
        "\n",
        "union = pd.Series(np.union1d(ser3,ser4))\n",
        "#print(union,'\\n')\n",
        "intersect = pd.Series(np.intersect1d(ser3,ser4))\n",
        "\n",
        "notcommon = union[~union.isin(intersect)]\n",
        "print(notcommon)"
      ],
      "execution_count": null,
      "outputs": [
        {
          "output_type": "stream",
          "text": [
            "0    1\n",
            "1    2\n",
            "2    3\n",
            "5    6\n",
            "6    7\n",
            "7    8\n",
            "dtype: int64\n"
          ],
          "name": "stdout"
        }
      ]
    },
    {
      "cell_type": "markdown",
      "metadata": {
        "id": "3D9LMgVYTjah"
      },
      "source": [
        "Get frequency counts of unique items of a series"
      ]
    },
    {
      "cell_type": "code",
      "metadata": {
        "colab": {
          "base_uri": "https://localhost:8080/"
        },
        "id": "hzjGMLaKTnyJ",
        "outputId": "414081f5-b980-4d67-d064-8de23e87824b"
      },
      "source": [
        "ser = pd.Series(np.take(list('abcdefgh'), np.random.randint(8, size=30)))\n",
        "#print(ser)\n",
        "print(ser.value_counts())"
      ],
      "execution_count": null,
      "outputs": [
        {
          "output_type": "stream",
          "text": [
            "d    7\n",
            "h    6\n",
            "f    5\n",
            "b    5\n",
            "g    4\n",
            "e    1\n",
            "a    1\n",
            "c    1\n",
            "dtype: int64\n"
          ],
          "name": "stdout"
        }
      ]
    },
    {
      "cell_type": "markdown",
      "metadata": {
        "id": "jY84dcctUnYt"
      },
      "source": [
        "Stack two series vertically and horizontally"
      ]
    },
    {
      "cell_type": "code",
      "metadata": {
        "colab": {
          "base_uri": "https://localhost:8080/"
        },
        "id": "uzNYEnRUUvsH",
        "outputId": "510bd74a-ec69-4d1c-b99b-dd2f9d390079"
      },
      "source": [
        "ser1 = pd.Series(range(5))\n",
        "ser2 = pd.Series(list('abcde'))\n",
        "\n",
        "print('Stacking Horizontally\\n',pd.concat([ser1,ser2],axis=1))\n",
        "print('Stacking Vertically\\n',pd.concat([ser1,ser2],axis=0))"
      ],
      "execution_count": null,
      "outputs": [
        {
          "output_type": "stream",
          "text": [
            "Stacking Horizontally\n",
            "    0  1\n",
            "0  0  a\n",
            "1  1  b\n",
            "2  2  c\n",
            "3  3  d\n",
            "4  4  e\n",
            "Stacking Vertically\n",
            " 0    0\n",
            "1    1\n",
            "2    2\n",
            "3    3\n",
            "4    4\n",
            "0    a\n",
            "1    b\n",
            "2    c\n",
            "3    d\n",
            "4    e\n",
            "dtype: object\n"
          ],
          "name": "stdout"
        }
      ]
    },
    {
      "cell_type": "markdown",
      "metadata": {
        "id": "Rjo6GUn7ZVZ_"
      },
      "source": [
        "Convert a series of date-strings to a timeseries"
      ]
    },
    {
      "cell_type": "code",
      "metadata": {
        "colab": {
          "base_uri": "https://localhost:8080/"
        },
        "id": "Q4nFyMBbZWrb",
        "outputId": "9d89e320-fc0a-4113-e6ab-2eee15222a70"
      },
      "source": [
        "ser = pd.Series(['01 Jan 2010', '02-02-2011', '20120303', '2013/04/04', '2014-05-05',\n",
        "'2015-06-06T12:20'])\n",
        "\n",
        "print(pd.to_datetime(ser))"
      ],
      "execution_count": null,
      "outputs": [
        {
          "output_type": "stream",
          "text": [
            "0   2010-01-01 00:00:00\n",
            "1   2011-02-02 00:00:00\n",
            "2   2012-03-03 00:00:00\n",
            "3   2013-04-04 00:00:00\n",
            "4   2014-05-05 00:00:00\n",
            "5   2015-06-06 12:20:00\n",
            "dtype: datetime64[ns]\n"
          ],
          "name": "stdout"
        }
      ]
    },
    {
      "cell_type": "markdown",
      "metadata": {
        "id": "iV4TuJVyZxID"
      },
      "source": [
        "Compute the euclidean distance between two series"
      ]
    },
    {
      "cell_type": "code",
      "metadata": {
        "colab": {
          "base_uri": "https://localhost:8080/"
        },
        "id": "YnLxJa18Zzyb",
        "outputId": "66be5c28-fc54-4240-9cae-3cdfe1e80fe0"
      },
      "source": [
        "p = pd.Series([1, 2, 3, 4, 5, 6, 7, 8, 9, 10])\n",
        "q = pd.Series([10, 9, 8, 7, 6, 5, 4, 3, 2, 1])\n",
        "\n",
        "dist = np.sqrt(np.sum([(a-b)*(a-b) for a, b in zip(p, q)]))\n",
        "\n",
        "print('Euclidian Distance: ',dist)"
      ],
      "execution_count": null,
      "outputs": [
        {
          "output_type": "stream",
          "text": [
            "Euclidian Distance:  18.16590212458495\n"
          ],
          "name": "stdout"
        }
      ]
    },
    {
      "cell_type": "markdown",
      "metadata": {
        "id": "XB_EBBGTbpNX"
      },
      "source": [
        "Import only specific columns from a csv file(first and second)"
      ]
    },
    {
      "cell_type": "code",
      "metadata": {
        "id": "Vj3qRnQGbrm9",
        "colab": {
          "base_uri": "https://localhost:8080/"
        },
        "outputId": "7bbde9f2-311c-4104-c01c-1edf2be2e1af"
      },
      "source": [
        "from google.colab import drive\n",
        "\n",
        "drive.mount('/content/drive')"
      ],
      "execution_count": 40,
      "outputs": [
        {
          "output_type": "stream",
          "text": [
            "Mounted at /content/drive\n"
          ],
          "name": "stdout"
        }
      ]
    },
    {
      "cell_type": "code",
      "metadata": {
        "colab": {
          "base_uri": "https://localhost:8080/"
        },
        "id": "DPzILcYtc-6g",
        "outputId": "678a2e92-408a-424d-f386-f9dd2222f4ac"
      },
      "source": [
        "path = \"/content/drive/MyDrive/csv Files/company_sales_data.csv\"\n",
        "\n",
        "#df = pd.read_csv(path)\n",
        "#print(df)\n",
        "\n",
        "col_list=['month_number','facecream']\n",
        "df=pd.read_csv(path,usecols=col_list)\n",
        "print(df)"
      ],
      "execution_count": 47,
      "outputs": [
        {
          "output_type": "stream",
          "text": [
            "    month_number  facecream\n",
            "0              1       2500\n",
            "1              2       2630\n",
            "2              3       2140\n",
            "3              4       3400\n",
            "4              5       3600\n",
            "5              6       2760\n",
            "6              7       2980\n",
            "7              8       3700\n",
            "8              9       3540\n",
            "9             10       1990\n",
            "10            11       2340\n",
            "11            12       2900\n"
          ],
          "name": "stdout"
        }
      ]
    },
    {
      "cell_type": "markdown",
      "metadata": {
        "id": "I7gQuc0be55j"
      },
      "source": [
        "Use iloc(2 columns and 10 rows(any))"
      ]
    },
    {
      "cell_type": "code",
      "metadata": {
        "colab": {
          "base_uri": "https://localhost:8080/",
          "height": 359
        },
        "id": "eu9olUiJe-Nv",
        "outputId": "ea696452-da83-41b4-a37b-168aea0d6967"
      },
      "source": [
        "df = pd.read_csv(path)\n",
        "df.iloc[:10,:2]"
      ],
      "execution_count": 50,
      "outputs": [
        {
          "output_type": "execute_result",
          "data": {
            "text/html": [
              "<div>\n",
              "<style scoped>\n",
              "    .dataframe tbody tr th:only-of-type {\n",
              "        vertical-align: middle;\n",
              "    }\n",
              "\n",
              "    .dataframe tbody tr th {\n",
              "        vertical-align: top;\n",
              "    }\n",
              "\n",
              "    .dataframe thead th {\n",
              "        text-align: right;\n",
              "    }\n",
              "</style>\n",
              "<table border=\"1\" class=\"dataframe\">\n",
              "  <thead>\n",
              "    <tr style=\"text-align: right;\">\n",
              "      <th></th>\n",
              "      <th>month_number</th>\n",
              "      <th>facecream</th>\n",
              "    </tr>\n",
              "  </thead>\n",
              "  <tbody>\n",
              "    <tr>\n",
              "      <th>0</th>\n",
              "      <td>1</td>\n",
              "      <td>2500</td>\n",
              "    </tr>\n",
              "    <tr>\n",
              "      <th>1</th>\n",
              "      <td>2</td>\n",
              "      <td>2630</td>\n",
              "    </tr>\n",
              "    <tr>\n",
              "      <th>2</th>\n",
              "      <td>3</td>\n",
              "      <td>2140</td>\n",
              "    </tr>\n",
              "    <tr>\n",
              "      <th>3</th>\n",
              "      <td>4</td>\n",
              "      <td>3400</td>\n",
              "    </tr>\n",
              "    <tr>\n",
              "      <th>4</th>\n",
              "      <td>5</td>\n",
              "      <td>3600</td>\n",
              "    </tr>\n",
              "    <tr>\n",
              "      <th>5</th>\n",
              "      <td>6</td>\n",
              "      <td>2760</td>\n",
              "    </tr>\n",
              "    <tr>\n",
              "      <th>6</th>\n",
              "      <td>7</td>\n",
              "      <td>2980</td>\n",
              "    </tr>\n",
              "    <tr>\n",
              "      <th>7</th>\n",
              "      <td>8</td>\n",
              "      <td>3700</td>\n",
              "    </tr>\n",
              "    <tr>\n",
              "      <th>8</th>\n",
              "      <td>9</td>\n",
              "      <td>3540</td>\n",
              "    </tr>\n",
              "    <tr>\n",
              "      <th>9</th>\n",
              "      <td>10</td>\n",
              "      <td>1990</td>\n",
              "    </tr>\n",
              "  </tbody>\n",
              "</table>\n",
              "</div>"
            ],
            "text/plain": [
              "   month_number  facecream\n",
              "0             1       2500\n",
              "1             2       2630\n",
              "2             3       2140\n",
              "3             4       3400\n",
              "4             5       3600\n",
              "5             6       2760\n",
              "6             7       2980\n",
              "7             8       3700\n",
              "8             9       3540\n",
              "9            10       1990"
            ]
          },
          "metadata": {
            "tags": []
          },
          "execution_count": 50
        }
      ]
    },
    {
      "cell_type": "markdown",
      "metadata": {
        "id": "pvra5sP7gSjM"
      },
      "source": [
        "Find out the unique values in each column"
      ]
    },
    {
      "cell_type": "code",
      "metadata": {
        "colab": {
          "base_uri": "https://localhost:8080/"
        },
        "id": "6f4W0bGdgV9R",
        "outputId": "73c9be80-12a5-4324-a8b9-f549a8eb8560"
      },
      "source": [
        "for col in df:\n",
        "  print(df[col].unique)\n"
      ],
      "execution_count": 54,
      "outputs": [
        {
          "output_type": "stream",
          "text": [
            "<bound method Series.unique of 0      1\n",
            "1      2\n",
            "2      3\n",
            "3      4\n",
            "4      5\n",
            "5      6\n",
            "6      7\n",
            "7      8\n",
            "8      9\n",
            "9     10\n",
            "10    11\n",
            "11    12\n",
            "Name: month_number, dtype: int64>\n",
            "<bound method Series.unique of 0     2500\n",
            "1     2630\n",
            "2     2140\n",
            "3     3400\n",
            "4     3600\n",
            "5     2760\n",
            "6     2980\n",
            "7     3700\n",
            "8     3540\n",
            "9     1990\n",
            "10    2340\n",
            "11    2900\n",
            "Name: facecream, dtype: int64>\n",
            "<bound method Series.unique of 0     1500\n",
            "1     1200\n",
            "2     1340\n",
            "3     1130\n",
            "4     1740\n",
            "5     1555\n",
            "6     1120\n",
            "7     1400\n",
            "8     1780\n",
            "9     1890\n",
            "10    2100\n",
            "11    1760\n",
            "Name: facewash, dtype: int64>\n",
            "<bound method Series.unique of 0     5200\n",
            "1     5100\n",
            "2     4550\n",
            "3     5870\n",
            "4     4560\n",
            "5     4890\n",
            "6     4780\n",
            "7     5860\n",
            "8     6100\n",
            "9     8300\n",
            "10    7300\n",
            "11    7400\n",
            "Name: toothpaste, dtype: int64>\n",
            "<bound method Series.unique of 0      9200\n",
            "1      6100\n",
            "2      9550\n",
            "3      8870\n",
            "4      7760\n",
            "5      7490\n",
            "6      8980\n",
            "7      9960\n",
            "8      8100\n",
            "9     10300\n",
            "10    13300\n",
            "11    14400\n",
            "Name: bathingsoap, dtype: int64>\n",
            "<bound method Series.unique of 0     1200\n",
            "1     2100\n",
            "2     3550\n",
            "3     1870\n",
            "4     1560\n",
            "5     1890\n",
            "6     1780\n",
            "7     2860\n",
            "8     2100\n",
            "9     2300\n",
            "10    2400\n",
            "11    1800\n",
            "Name: shampoo, dtype: int64>\n",
            "<bound method Series.unique of 0     1500\n",
            "1     1200\n",
            "2     1340\n",
            "3     1130\n",
            "4     1740\n",
            "5     1555\n",
            "6     1120\n",
            "7     1400\n",
            "8     1780\n",
            "9     1890\n",
            "10    2100\n",
            "11    1760\n",
            "Name: moisturizer, dtype: int64>\n",
            "<bound method Series.unique of 0     21100\n",
            "1     18330\n",
            "2     22470\n",
            "3     22270\n",
            "4     20960\n",
            "5     20140\n",
            "6     29550\n",
            "7     36140\n",
            "8     23400\n",
            "9     26670\n",
            "10    41280\n",
            "11    30020\n",
            "Name: total_units, dtype: int64>\n",
            "<bound method Series.unique of 0     211000\n",
            "1     183300\n",
            "2     224700\n",
            "3     222700\n",
            "4     209600\n",
            "5     201400\n",
            "6     295500\n",
            "7     361400\n",
            "8     234000\n",
            "9     266700\n",
            "10    412800\n",
            "11    300200\n",
            "Name: total_profit, dtype: int64>\n"
          ],
          "name": "stdout"
        }
      ]
    }
  ]
}