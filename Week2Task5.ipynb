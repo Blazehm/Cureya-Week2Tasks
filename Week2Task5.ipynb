{
  "nbformat": 4,
  "nbformat_minor": 0,
  "metadata": {
    "colab": {
      "name": "Week2Task5.ipynb",
      "provenance": [],
      "collapsed_sections": []
    },
    "kernelspec": {
      "name": "python3",
      "display_name": "Python 3"
    },
    "language_info": {
      "name": "python"
    }
  },
  "cells": [
    {
      "cell_type": "code",
      "metadata": {
        "id": "Cgft-dA2pyI9"
      },
      "source": [
        "import numpy as np"
      ],
      "execution_count": 1,
      "outputs": []
    },
    {
      "cell_type": "code",
      "metadata": {
        "colab": {
          "base_uri": "https://localhost:8080/"
        },
        "id": "Fi8uWlZEq7fq",
        "outputId": "07f0fe19-0752-4b29-b470-0261faecbb96"
      },
      "source": [
        "arr = np.array([5,5,5,5,5,5,5,5,5,5])\n",
        "\n",
        "print(arr)"
      ],
      "execution_count": 19,
      "outputs": [
        {
          "output_type": "stream",
          "text": [
            "[5 5 5 5 5 5 5 5 5 5]\n"
          ],
          "name": "stdout"
        }
      ]
    },
    {
      "cell_type": "code",
      "metadata": {
        "colab": {
          "base_uri": "https://localhost:8080/"
        },
        "id": "j9hB8WrhrKJM",
        "outputId": "2cb83bc1-5e90-424c-c3e6-9c54f53afd1d"
      },
      "source": [
        "j=0\n",
        "arr1 = np.array([])\n",
        "for i in range(10,50):\n",
        "  if i%2==0:\n",
        "    arr1=np.append(arr1, [i])\n",
        "    j+=1\n",
        "\n",
        "print(arr1)    "
      ],
      "execution_count": 20,
      "outputs": [
        {
          "output_type": "stream",
          "text": [
            "[10. 12. 14. 16. 18. 20. 22. 24. 26. 28. 30. 32. 34. 36. 38. 40. 42. 44.\n",
            " 46. 48.]\n"
          ],
          "name": "stdout"
        }
      ]
    },
    {
      "cell_type": "code",
      "metadata": {
        "colab": {
          "base_uri": "https://localhost:8080/"
        },
        "id": "z5WhZGl4uhAu",
        "outputId": "5dcc694b-7dc8-4d35-874e-bde9750647f6"
      },
      "source": [
        "mat = np.matrix([[1,2,3,4],[2,3,4,1,],[3,4,1,2,],[4,1,2,3]])\n",
        "\n",
        "print(mat)"
      ],
      "execution_count": 21,
      "outputs": [
        {
          "output_type": "stream",
          "text": [
            "[[1 2 3 4]\n",
            " [2 3 4 1]\n",
            " [3 4 1 2]\n",
            " [4 1 2 3]]\n"
          ],
          "name": "stdout"
        }
      ]
    },
    {
      "cell_type": "code",
      "metadata": {
        "colab": {
          "base_uri": "https://localhost:8080/"
        },
        "id": "-r3dnVFkvTzA",
        "outputId": "4ba2d45c-ffe4-4708-ea32-0c3ee5dca6bb"
      },
      "source": [
        "arr2 = np.random.normal(0,1,25)\n",
        "\n",
        "print(arr2)"
      ],
      "execution_count": 22,
      "outputs": [
        {
          "output_type": "stream",
          "text": [
            "[-0.49835908  0.94058176 -0.26215615 -0.8492006   1.93373789  2.01904092\n",
            "  0.37161673  0.51291343 -0.05285255 -0.41937593 -1.13427193 -0.15534678\n",
            " -1.71085125 -0.45169232 -1.32604554 -0.00359166  0.87326997 -0.66148973\n",
            " -0.56753517 -0.87309228 -0.85120632  0.29656046 -0.5662476  -0.67353326\n",
            " -0.81474355]\n"
          ],
          "name": "stdout"
        }
      ]
    },
    {
      "cell_type": "code",
      "metadata": {
        "colab": {
          "base_uri": "https://localhost:8080/"
        },
        "id": "x3FeNIgFxV1_",
        "outputId": "580403a1-6fd6-4ed1-e00b-7644776d6d91"
      },
      "source": [
        "array = np.arange(1,26).reshape(5,5)\n",
        "\n",
        "print(array)"
      ],
      "execution_count": 32,
      "outputs": [
        {
          "output_type": "stream",
          "text": [
            "[[ 1  2  3  4  5]\n",
            " [ 6  7  8  9 10]\n",
            " [11 12 13 14 15]\n",
            " [16 17 18 19 20]\n",
            " [21 22 23 24 25]]\n"
          ],
          "name": "stdout"
        }
      ]
    },
    {
      "cell_type": "code",
      "metadata": {
        "colab": {
          "base_uri": "https://localhost:8080/"
        },
        "id": "6DIQXfTo0oHE",
        "outputId": "62cb4908-5562-4840-8833-f8f12f9d9342"
      },
      "source": [
        "print(array[2:,1:])"
      ],
      "execution_count": 34,
      "outputs": [
        {
          "output_type": "stream",
          "text": [
            "[[12 13 14 15]\n",
            " [17 18 19 20]\n",
            " [22 23 24 25]]\n"
          ],
          "name": "stdout"
        }
      ]
    },
    {
      "cell_type": "code",
      "metadata": {
        "colab": {
          "base_uri": "https://localhost:8080/"
        },
        "id": "RgIroIYa62aC",
        "outputId": "13d1f877-f859-48e1-ae1c-1e7943358b0a"
      },
      "source": [
        "print(array[3,4])"
      ],
      "execution_count": 35,
      "outputs": [
        {
          "output_type": "stream",
          "text": [
            "20\n"
          ],
          "name": "stdout"
        }
      ]
    },
    {
      "cell_type": "code",
      "metadata": {
        "colab": {
          "base_uri": "https://localhost:8080/"
        },
        "id": "68jLvU4F7aGa",
        "outputId": "a89535fc-9b6a-466a-943e-712e955bbc35"
      },
      "source": [
        "print(array[0:3,1])"
      ],
      "execution_count": 37,
      "outputs": [
        {
          "output_type": "stream",
          "text": [
            "[ 2  7 12]\n"
          ],
          "name": "stdout"
        }
      ]
    },
    {
      "cell_type": "code",
      "metadata": {
        "colab": {
          "base_uri": "https://localhost:8080/"
        },
        "id": "5ttjPIbt7yM9",
        "outputId": "e68e2189-d94a-4a0a-cd3e-c2dffba6ce53"
      },
      "source": [
        "np.std(array)"
      ],
      "execution_count": 38,
      "outputs": [
        {
          "output_type": "execute_result",
          "data": {
            "text/plain": [
              "7.211102550927978"
            ]
          },
          "metadata": {
            "tags": []
          },
          "execution_count": 38
        }
      ]
    },
    {
      "cell_type": "code",
      "metadata": {
        "colab": {
          "base_uri": "https://localhost:8080/"
        },
        "id": "IPZ8x8O-8Kiu",
        "outputId": "233bf7b6-5185-450d-d011-b1dd01954e01"
      },
      "source": [
        "array.sum(axis=0)"
      ],
      "execution_count": 39,
      "outputs": [
        {
          "output_type": "execute_result",
          "data": {
            "text/plain": [
              "array([55, 60, 65, 70, 75])"
            ]
          },
          "metadata": {
            "tags": []
          },
          "execution_count": 39
        }
      ]
    }
  ]
}